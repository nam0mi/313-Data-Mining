{
 "cells": [
  {
   "cell_type": "markdown",
   "metadata": {},
   "source": [
    "## Naomi, Parshana, Sinchana, Joanna"
   ]
  },
  {
   "cell_type": "code",
   "execution_count": 66,
   "metadata": {},
   "outputs": [
    {
     "name": "stdout",
     "output_type": "stream",
     "text": [
      "Requirement already satisfied: pandas in ./venv/lib/python3.12/site-packages (2.2.3)\n",
      "Requirement already satisfied: numpy in ./venv/lib/python3.12/site-packages (2.2.2)\n",
      "Requirement already satisfied: matplotlib in ./venv/lib/python3.12/site-packages (3.10.0)\n",
      "Requirement already satisfied: scikit-learn in ./venv/lib/python3.12/site-packages (1.6.1)\n",
      "Requirement already satisfied: python-dateutil>=2.8.2 in ./venv/lib/python3.12/site-packages (from pandas) (2.9.0.post0)\n",
      "Requirement already satisfied: pytz>=2020.1 in ./venv/lib/python3.12/site-packages (from pandas) (2024.2)\n",
      "Requirement already satisfied: tzdata>=2022.7 in ./venv/lib/python3.12/site-packages (from pandas) (2025.1)\n",
      "Requirement already satisfied: contourpy>=1.0.1 in ./venv/lib/python3.12/site-packages (from matplotlib) (1.3.1)\n",
      "Requirement already satisfied: cycler>=0.10 in ./venv/lib/python3.12/site-packages (from matplotlib) (0.12.1)\n",
      "Requirement already satisfied: fonttools>=4.22.0 in ./venv/lib/python3.12/site-packages (from matplotlib) (4.55.4)\n",
      "Requirement already satisfied: kiwisolver>=1.3.1 in ./venv/lib/python3.12/site-packages (from matplotlib) (1.4.8)\n",
      "Requirement already satisfied: packaging>=20.0 in ./venv/lib/python3.12/site-packages (from matplotlib) (24.2)\n",
      "Requirement already satisfied: pillow>=8 in ./venv/lib/python3.12/site-packages (from matplotlib) (11.1.0)\n",
      "Requirement already satisfied: pyparsing>=2.3.1 in ./venv/lib/python3.12/site-packages (from matplotlib) (3.2.1)\n",
      "Requirement already satisfied: scipy>=1.6.0 in ./venv/lib/python3.12/site-packages (from scikit-learn) (1.15.1)\n",
      "Requirement already satisfied: joblib>=1.2.0 in ./venv/lib/python3.12/site-packages (from scikit-learn) (1.4.2)\n",
      "Requirement already satisfied: threadpoolctl>=3.1.0 in ./venv/lib/python3.12/site-packages (from scikit-learn) (3.5.0)\n",
      "Requirement already satisfied: six>=1.5 in ./venv/lib/python3.12/site-packages (from python-dateutil>=2.8.2->pandas) (1.17.0)\n",
      "\n",
      "\u001b[1m[\u001b[0m\u001b[34;49mnotice\u001b[0m\u001b[1;39;49m]\u001b[0m\u001b[39;49m A new release of pip is available: \u001b[0m\u001b[31;49m24.0\u001b[0m\u001b[39;49m -> \u001b[0m\u001b[32;49m24.3.1\u001b[0m\n",
      "\u001b[1m[\u001b[0m\u001b[34;49mnotice\u001b[0m\u001b[1;39;49m]\u001b[0m\u001b[39;49m To update, run: \u001b[0m\u001b[32;49mpip install --upgrade pip\u001b[0m\n",
      "Note: you may need to restart the kernel to use updated packages.\n"
     ]
    }
   ],
   "source": [
    "%pip install pandas numpy matplotlib scikit-learn "
   ]
  },
  {
   "cell_type": "code",
   "execution_count": 67,
   "metadata": {},
   "outputs": [],
   "source": [
    "import pandas as pd\n",
    "import numpy as np\n",
    "import matplotlib.pyplot as plt"
   ]
  },
  {
   "cell_type": "markdown",
   "metadata": {},
   "source": [
    "TASK 1:"
   ]
  },
  {
   "cell_type": "markdown",
   "metadata": {},
   "source": [
    "#1"
   ]
  },
  {
   "cell_type": "code",
   "execution_count": 68,
   "metadata": {},
   "outputs": [],
   "source": [
    "df_main = pd.read_csv(\"S19_All_Release_2_10_22/Data/MainTable.csv\")\n",
    "df_subj = pd.read_csv(\"S19_All_Release_2_10_22/Data/LinkTables/Subject.csv\")"
   ]
  },
  {
   "cell_type": "code",
   "execution_count": 69,
   "metadata": {},
   "outputs": [
    {
     "data": {
      "text/plain": [
       "413"
      ]
     },
     "execution_count": 69,
     "metadata": {},
     "output_type": "execute_result"
    }
   ],
   "source": [
    "# Number of unique students - using MainTable.csv\n",
    "len(df_main['SubjectID'].unique())"
   ]
  },
  {
   "cell_type": "code",
   "execution_count": 70,
   "metadata": {},
   "outputs": [
    {
     "data": {
      "text/plain": [
       "372"
      ]
     },
     "execution_count": 70,
     "metadata": {},
     "output_type": "execute_result"
    }
   ],
   "source": [
    "# Number of unique students - using LinkTables/Subject.csv\n",
    "len(df_subj['SubjectID'].unique())\n",
    "# Less because some people didn't take the final (?)"
   ]
  },
  {
   "cell_type": "markdown",
   "metadata": {},
   "source": [
    "#2"
   ]
  },
  {
   "cell_type": "code",
   "execution_count": 71,
   "metadata": {},
   "outputs": [],
   "source": [
    "df_early = pd.read_csv(\"S19_All_Release_2_10_22/early.csv\")\n",
    "df_late = pd.read_csv(\"S19_All_Release_2_10_22/late.csv\")\n",
    "df_all = pd.concat([df_early, df_late])"
   ]
  },
  {
   "cell_type": "code",
   "execution_count": 72,
   "metadata": {},
   "outputs": [
    {
     "name": "stdout",
     "output_type": "stream",
     "text": [
      "Assignment 487.0 Problem 102 had the most attempts at 10.422535211267606.\n"
     ]
    }
   ],
   "source": [
    "mean_attempts = df_all.groupby(['AssignmentID', 'ProblemID'])['Attempts'].mean()\n",
    "mean_attempts.head()\n",
    "print(f\"Assignment {mean_attempts.idxmax()[0]} Problem {mean_attempts.idxmax()[1]} had the most attempts at {mean_attempts.max()}.\")"
   ]
  },
  {
   "cell_type": "markdown",
   "metadata": {},
   "source": [
    "#3"
   ]
  },
  {
   "cell_type": "code",
   "execution_count": 79,
   "metadata": {},
   "outputs": [
    {
     "data": {
      "text/html": [
       "<div>\n",
       "<style scoped>\n",
       "    .dataframe tbody tr th:only-of-type {\n",
       "        vertical-align: middle;\n",
       "    }\n",
       "\n",
       "    .dataframe tbody tr th {\n",
       "        vertical-align: top;\n",
       "    }\n",
       "\n",
       "    .dataframe thead th {\n",
       "        text-align: right;\n",
       "    }\n",
       "</style>\n",
       "<table border=\"1\" class=\"dataframe\">\n",
       "  <thead>\n",
       "    <tr style=\"text-align: right;\">\n",
       "      <th></th>\n",
       "      <th>Order</th>\n",
       "      <th>SubjectID</th>\n",
       "      <th>ToolInstances</th>\n",
       "      <th>ServerTimestamp</th>\n",
       "      <th>ServerTimezone</th>\n",
       "      <th>CourseID</th>\n",
       "      <th>CourseSectionID</th>\n",
       "      <th>AssignmentID</th>\n",
       "      <th>ProblemID</th>\n",
       "      <th>CodeStateID</th>\n",
       "      <th>IsEventOrderingConsistent</th>\n",
       "      <th>EventType</th>\n",
       "      <th>Score</th>\n",
       "      <th>Compile.Result</th>\n",
       "      <th>CompileMessageType</th>\n",
       "      <th>CompileMessageData</th>\n",
       "      <th>EventID</th>\n",
       "      <th>ParentEventID</th>\n",
       "      <th>SourceLocation</th>\n",
       "    </tr>\n",
       "  </thead>\n",
       "  <tbody>\n",
       "    <tr>\n",
       "      <th>0</th>\n",
       "      <td>119630</td>\n",
       "      <td>00c54f9462673d4c09d2a88121860841</td>\n",
       "      <td>Java 8; CodeWorkout</td>\n",
       "      <td>2019-02-24T05:13:03</td>\n",
       "      <td>UTC</td>\n",
       "      <td>CS 1</td>\n",
       "      <td>1</td>\n",
       "      <td>439.0</td>\n",
       "      <td>1</td>\n",
       "      <td>efdf3fae54cdc0a09fb81fcfa365c5f843e837b0</td>\n",
       "      <td>True</td>\n",
       "      <td>Run.Program</td>\n",
       "      <td>1.00</td>\n",
       "      <td>NaN</td>\n",
       "      <td>NaN</td>\n",
       "      <td>NaN</td>\n",
       "      <td>1-69176</td>\n",
       "      <td>NaN</td>\n",
       "      <td>NaN</td>\n",
       "    </tr>\n",
       "    <tr>\n",
       "      <th>1</th>\n",
       "      <td>119631</td>\n",
       "      <td>00c54f9462673d4c09d2a88121860841</td>\n",
       "      <td>Java 8; CodeWorkout</td>\n",
       "      <td>2019-02-24T05:13:03</td>\n",
       "      <td>UTC</td>\n",
       "      <td>CS 1</td>\n",
       "      <td>1</td>\n",
       "      <td>439.0</td>\n",
       "      <td>1</td>\n",
       "      <td>efdf3fae54cdc0a09fb81fcfa365c5f843e837b0</td>\n",
       "      <td>True</td>\n",
       "      <td>Compile</td>\n",
       "      <td>NaN</td>\n",
       "      <td>Success</td>\n",
       "      <td>NaN</td>\n",
       "      <td>NaN</td>\n",
       "      <td>1-69177</td>\n",
       "      <td>1-69176</td>\n",
       "      <td>NaN</td>\n",
       "    </tr>\n",
       "    <tr>\n",
       "      <th>2</th>\n",
       "      <td>134330</td>\n",
       "      <td>00c54f9462673d4c09d2a88121860841</td>\n",
       "      <td>Java 8; CodeWorkout</td>\n",
       "      <td>2019-02-24T05:13:33</td>\n",
       "      <td>0</td>\n",
       "      <td>CS 1</td>\n",
       "      <td>1</td>\n",
       "      <td>439.0</td>\n",
       "      <td>3</td>\n",
       "      <td>79b2bcc8f502e1f7d2d4e83d1894964684c89b85</td>\n",
       "      <td>True</td>\n",
       "      <td>Run.Program</td>\n",
       "      <td>1.00</td>\n",
       "      <td>NaN</td>\n",
       "      <td>NaN</td>\n",
       "      <td>NaN</td>\n",
       "      <td>3-68089</td>\n",
       "      <td>NaN</td>\n",
       "      <td>NaN</td>\n",
       "    </tr>\n",
       "    <tr>\n",
       "      <th>3</th>\n",
       "      <td>134331</td>\n",
       "      <td>00c54f9462673d4c09d2a88121860841</td>\n",
       "      <td>Java 8; CodeWorkout</td>\n",
       "      <td>2019-02-24T05:13:33</td>\n",
       "      <td>0</td>\n",
       "      <td>CS 1</td>\n",
       "      <td>1</td>\n",
       "      <td>439.0</td>\n",
       "      <td>3</td>\n",
       "      <td>79b2bcc8f502e1f7d2d4e83d1894964684c89b85</td>\n",
       "      <td>True</td>\n",
       "      <td>Compile</td>\n",
       "      <td>NaN</td>\n",
       "      <td>Success</td>\n",
       "      <td>NaN</td>\n",
       "      <td>NaN</td>\n",
       "      <td>3-68090</td>\n",
       "      <td>3-68089</td>\n",
       "      <td>NaN</td>\n",
       "    </tr>\n",
       "    <tr>\n",
       "      <th>4</th>\n",
       "      <td>65666</td>\n",
       "      <td>00c54f9462673d4c09d2a88121860841</td>\n",
       "      <td>Java 8; CodeWorkout</td>\n",
       "      <td>2019-02-24T05:09:54</td>\n",
       "      <td>UTC</td>\n",
       "      <td>CS 1</td>\n",
       "      <td>1</td>\n",
       "      <td>439.0</td>\n",
       "      <td>5</td>\n",
       "      <td>2697d299e7c5992f557ce38d8a04345112a11af8</td>\n",
       "      <td>True</td>\n",
       "      <td>Run.Program</td>\n",
       "      <td>0.75</td>\n",
       "      <td>NaN</td>\n",
       "      <td>NaN</td>\n",
       "      <td>NaN</td>\n",
       "      <td>5-35681</td>\n",
       "      <td>NaN</td>\n",
       "      <td>NaN</td>\n",
       "    </tr>\n",
       "  </tbody>\n",
       "</table>\n",
       "</div>"
      ],
      "text/plain": [
       "    Order                         SubjectID        ToolInstances  \\\n",
       "0  119630  00c54f9462673d4c09d2a88121860841  Java 8; CodeWorkout   \n",
       "1  119631  00c54f9462673d4c09d2a88121860841  Java 8; CodeWorkout   \n",
       "2  134330  00c54f9462673d4c09d2a88121860841  Java 8; CodeWorkout   \n",
       "3  134331  00c54f9462673d4c09d2a88121860841  Java 8; CodeWorkout   \n",
       "4   65666  00c54f9462673d4c09d2a88121860841  Java 8; CodeWorkout   \n",
       "\n",
       "       ServerTimestamp ServerTimezone CourseID  CourseSectionID  AssignmentID  \\\n",
       "0  2019-02-24T05:13:03            UTC     CS 1                1         439.0   \n",
       "1  2019-02-24T05:13:03            UTC     CS 1                1         439.0   \n",
       "2  2019-02-24T05:13:33              0     CS 1                1         439.0   \n",
       "3  2019-02-24T05:13:33              0     CS 1                1         439.0   \n",
       "4  2019-02-24T05:09:54            UTC     CS 1                1         439.0   \n",
       "\n",
       "   ProblemID                               CodeStateID  \\\n",
       "0          1  efdf3fae54cdc0a09fb81fcfa365c5f843e837b0   \n",
       "1          1  efdf3fae54cdc0a09fb81fcfa365c5f843e837b0   \n",
       "2          3  79b2bcc8f502e1f7d2d4e83d1894964684c89b85   \n",
       "3          3  79b2bcc8f502e1f7d2d4e83d1894964684c89b85   \n",
       "4          5  2697d299e7c5992f557ce38d8a04345112a11af8   \n",
       "\n",
       "   IsEventOrderingConsistent    EventType  Score Compile.Result  \\\n",
       "0                       True  Run.Program   1.00            NaN   \n",
       "1                       True      Compile    NaN        Success   \n",
       "2                       True  Run.Program   1.00            NaN   \n",
       "3                       True      Compile    NaN        Success   \n",
       "4                       True  Run.Program   0.75            NaN   \n",
       "\n",
       "  CompileMessageType CompileMessageData  EventID ParentEventID SourceLocation  \n",
       "0                NaN                NaN  1-69176           NaN            NaN  \n",
       "1                NaN                NaN  1-69177       1-69176            NaN  \n",
       "2                NaN                NaN  3-68089           NaN            NaN  \n",
       "3                NaN                NaN  3-68090       3-68089            NaN  \n",
       "4                NaN                NaN  5-35681           NaN            NaN  "
      ]
     },
     "execution_count": 79,
     "metadata": {},
     "output_type": "execute_result"
    }
   ],
   "source": [
    "df_main = pd.read_csv(\"S19_All_Release_2_10_22/Data/MainTable.csv\")\n",
    "df_main.head()"
   ]
  },
  {
   "cell_type": "code",
   "execution_count": 74,
   "metadata": {},
   "outputs": [
    {
     "name": "stdout",
     "output_type": "stream",
     "text": [
      "Assignment 439.0 Problem 13 had the most compile errors at 11621.\n"
     ]
    }
   ],
   "source": [
    "compile_errors = df_main[df_main['Compile.Result'].isna()]\n",
    "grouped_compile_errors = compile_errors.groupby(['AssignmentID', 'ProblemID'])['Compile.Result'].size()\n",
    "print(f\"Assignment {grouped_compile_errors.idxmax()[0]} Problem {grouped_compile_errors.idxmax()[1]} had the most compile errors at {grouped_compile_errors.max()}.\")"
   ]
  },
  {
   "cell_type": "markdown",
   "metadata": {},
   "source": [
    "Computing the total number of compiler errors faced on each problem, and report the maximum is more meaningful because it directly answers which problems had the most compile errors from all students. This is more meaningful for knowing which problems students as a whole struggled with compiling."
   ]
  }
 ],
 "metadata": {
  "kernelspec": {
   "display_name": "Python 3 (ipykernel)",
   "language": "python",
   "name": "python3"
  },
  "language_info": {
   "codemirror_mode": {
    "name": "ipython",
    "version": 3
   },
   "file_extension": ".py",
   "mimetype": "text/x-python",
   "name": "python",
   "nbconvert_exporter": "python",
   "pygments_lexer": "ipython3",
   "version": "3.12.2"
  }
 },
 "nbformat": 4,
 "nbformat_minor": 4
}
